{
 "cells": [
  {
   "cell_type": "code",
   "execution_count": null,
   "id": "4b3c4477",
   "metadata": {},
   "outputs": [],
   "source": [
    "import database_utilities as db_util\n",
    "import importlib\n",
    "importlib.reload(db_util)"
   ]
  },
  {
   "cell_type": "markdown",
   "id": "b3d6591e",
   "metadata": {},
   "source": [
    "Sample object in the \"mathlib_data_bluebench.jsonl\" file."
   ]
  },
  {
   "cell_type": "code",
   "execution_count": 3,
   "id": "85722151",
   "metadata": {},
   "outputs": [
    {
     "data": {
      "text/plain": [
       "{'ppType': '∀ {α : Type u_1} {β : Type u_2} {Ω : Type u_3} {mα : MeasurableSpace α} {mβ : MeasurableSpace β}\\n  {mΩ : MeasurableSpace Ω} (κ : ProbabilityTheory.Kernel α (β × Ω)) (κCond : ProbabilityTheory.Kernel (α × β) Ω)\\n  [κ.IsCondKernel κCond], κ.fst.compProd κCond = κ',\n",
       " 'name': 'ProbabilityTheory.Kernel.disintegrate',\n",
       " 'parent': ['MeasurableSpace',\n",
       "  'ProbabilityTheory.Kernel.IsCondKernel',\n",
       "  'ProbabilityTheory.Kernel.IsCondKernel.disintegrate',\n",
       "  'Prod',\n",
       "  'Eq',\n",
       "  'ProbabilityTheory.Kernel.fst',\n",
       "  'ProbabilityTheory.Kernel',\n",
       "  'ProbabilityTheory.Kernel.compProd',\n",
       "  'Prod.instMeasurableSpace']}"
      ]
     },
     "execution_count": 3,
     "metadata": {},
     "output_type": "execute_result"
    }
   ],
   "source": [
    "db_util.get_object_index()"
   ]
  },
  {
   "cell_type": "markdown",
   "id": "e3f51177",
   "metadata": {},
   "source": [
    "Given the name of a function, find all dependencies of desired depth."
   ]
  },
  {
   "cell_type": "code",
   "execution_count": 5,
   "id": "baaf0dc6",
   "metadata": {},
   "outputs": [
    {
     "name": "stdout",
     "output_type": "stream",
     "text": [
      "Depth: 0\n"
     ]
    },
    {
     "ename": "KeyError",
     "evalue": "'parent1'",
     "output_type": "error",
     "traceback": [
      "\u001b[0;31m---------------------------------------------------------------------------\u001b[0m",
      "\u001b[0;31mKeyError\u001b[0m                                  Traceback (most recent call last)",
      "Cell \u001b[0;32mIn[5], line 2\u001b[0m\n\u001b[1;32m      1\u001b[0m db_list \u001b[38;5;241m=\u001b[39m db_util\u001b[38;5;241m.\u001b[39mget_db_list()\n\u001b[0;32m----> 2\u001b[0m \u001b[43mdb_util\u001b[49m\u001b[38;5;241;43m.\u001b[39;49m\u001b[43mget_parents_depth\u001b[49m\u001b[43m(\u001b[49m\u001b[38;5;124;43m'\u001b[39;49m\u001b[38;5;124;43mProbabilityTheory.Kernel.disintegrate\u001b[39;49m\u001b[38;5;124;43m'\u001b[39;49m\u001b[43m,\u001b[49m\u001b[43m \u001b[49m\u001b[43mdb_list\u001b[49m\u001b[43m \u001b[49m\u001b[38;5;241;43m=\u001b[39;49m\u001b[43m \u001b[49m\u001b[43mdb_list\u001b[49m\u001b[43m \u001b[49m\u001b[43m,\u001b[49m\u001b[43m \u001b[49m\u001b[43mfinal_depth\u001b[49m\u001b[38;5;241;43m=\u001b[39;49m\u001b[38;5;241;43m5\u001b[39;49m\u001b[43m)\u001b[49m\n",
      "File \u001b[0;32m~/Desktop/autoformalization_pilot/database_utilities.py:211\u001b[0m, in \u001b[0;36mget_parents_depth\u001b[0;34m(name_list, db_list, start_depth, final_depth)\u001b[0m\n\u001b[1;32m    209\u001b[0m \u001b[38;5;28;01mfor\u001b[39;00m name \u001b[38;5;129;01min\u001b[39;00m name_list:\n\u001b[1;32m    210\u001b[0m     obj \u001b[38;5;241m=\u001b[39m get_object_name_from_list_dic(name, db_list)\n\u001b[0;32m--> 211\u001b[0m     print_list \u001b[38;5;241m+\u001b[39m\u001b[38;5;241m=\u001b[39m \u001b[43mobj\u001b[49m\u001b[43m[\u001b[49m\u001b[38;5;124;43m'\u001b[39;49m\u001b[38;5;124;43mparent1\u001b[39;49m\u001b[38;5;124;43m'\u001b[39;49m\u001b[43m]\u001b[49m\n\u001b[1;32m    212\u001b[0m print_list \u001b[38;5;241m=\u001b[39m \u001b[38;5;28mset\u001b[39m(print_list)\n\u001b[1;32m    213\u001b[0m \u001b[38;5;28mprint\u001b[39m(print_list)\n",
      "\u001b[0;31mKeyError\u001b[0m: 'parent1'"
     ]
    }
   ],
   "source": [
    "db_list = db_util.get_db_list()\n",
    "db_util.get_parents_depth('ProbabilityTheory.Kernel.disintegrate', db_list = db_list , final_depth=5)"
   ]
  }
 ],
 "metadata": {
  "kernelspec": {
   "display_name": "Python 3",
   "language": "python",
   "name": "python3"
  },
  "language_info": {
   "codemirror_mode": {
    "name": "ipython",
    "version": 3
   },
   "file_extension": ".py",
   "mimetype": "text/x-python",
   "name": "python",
   "nbconvert_exporter": "python",
   "pygments_lexer": "ipython3",
   "version": "3.10.12"
  }
 },
 "nbformat": 4,
 "nbformat_minor": 5
}
